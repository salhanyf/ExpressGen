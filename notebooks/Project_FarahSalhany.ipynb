{
  "cells": [
    {
      "cell_type": "markdown",
      "metadata": {
        "id": "TZzv25vDL9LQ"
      },
      "source": [
        "# **ExpressGen**"
      ]
    },
    {
      "cell_type": "markdown",
      "metadata": {
        "id": "MP7fynuIMGlg"
      },
      "source": [
        "## **Abstract**\n",
        "   Abstract here. Give an executive summary of your project: goal, methods, results, conclusions. Usually no more than 200 words.\n"
      ]
    },
    {
      "cell_type": "markdown",
      "metadata": {
        "id": "wBGDBctaMYYQ"
      },
      "source": [
        "## **Introduction**\n",
        "\n",
        "Here you have to explain the problem that you are solving. Explain why it is important, and what are the main challenges. Mention previous attempts (add papers as references) to solve it. Mainly focus on the techniques closely related to our approach. Briefly describe your approach and explain why it is promising for solving the addressed problem. Mention the dataset and the main results achieved.\n",
        "\n",
        "In this section, you can add **text** and **figures**."
      ]
    },
    {
      "cell_type": "markdown",
      "metadata": {
        "id": "XtzOOJDnMpWp"
      },
      "source": [
        "## **Methodology**\n",
        "Describe the important steps you took to achieve your goal. Focus more on the most important steps (preprocessing, extra features, model aspects) that turned out to be important. Mention the original aspects of the project and state how they relate to existing work.\n",
        "\n",
        "In this section, you can add **text** and **figures**. For instance, it is strongly suggested to add a picture of the best machine learning model that you implemented to solve your problem (and describe it).\n"
      ]
    },
    {
      "cell_type": "markdown",
      "metadata": {
        "id": "YIQOcLeaPq3v"
      },
      "source": [
        "## **Experimental Setup**\n",
        "Describe the datasets used for your experiments. List the machine learning techniques used to solve your problem and report the corresponding hyperparameters.\n",
        "\n",
        "In this section, you can add **text**, **tables**, and **figures**."
      ]
    },
    {
      "cell_type": "markdown",
      "metadata": {},
      "source": [
        "### Importing the required packages"
      ]
    },
    {
      "cell_type": "code",
      "execution_count": null,
      "metadata": {
        "vscode": {
          "languageId": "plaintext"
        }
      },
      "outputs": [],
      "source": [
        "import os\n",
        "import torch \n",
        "import torchvision\n",
        "import gc\n",
        "import import_ipynb\n",
        "import numpy as np\n",
        "import importlib\n",
        "import matplotlib.pyplot as plt\n",
        "\n",
        "from datetime import datetime\n",
        "from PIL import Image\n",
        "from torch.utils.data import Dataset, DataLoader\n",
        "from datasets import load_dataset\n",
        "from collections import defaultdict\n",
        "\n",
        "print(datetime.now())"
      ]
    },
    {
      "cell_type": "markdown",
      "metadata": {},
      "source": [
        "### Install the AffectNetHQ"
      ]
    },
    {
      "cell_type": "code",
      "execution_count": null,
      "metadata": {
        "vscode": {
          "languageId": "plaintext"
        }
      },
      "outputs": [],
      "source": [
        "import dataset_analysis\n",
        "# Inspect dataset features\n",
        "dataset.info.features\n",
        "\n",
        "# Print dataset statistics\n",
        "DATASET_PATH = \"path_to_affectnethq_dataset\"\n",
        "dataset_analysis.print_dataset_info(DATASET_PATH)\n",
        "\n",
        "# Display sample images\n",
        "dataset_analysis.display_sample_images(DATASET_PATH)"
      ]
    },
    {
      "cell_type": "markdown",
      "metadata": {
        "id": "BRL5KR20QWKu"
      },
      "source": [
        "## **Experimental Results**\n",
        "Describe here the main experimental results. Critically discuss them. Compare them with results available in the literature (if applicable).\n",
        "\n",
        "In this section, you can add **text** and **figures**, **tables**, **plots**, and code. Make sure the code is runnable and replicable."
      ]
    },
    {
      "cell_type": "markdown",
      "metadata": {
        "id": "b4Jyn3BcQDpf"
      },
      "source": [
        "## **Conclusions**\n",
        "\n",
        "Summarize what you could and could not conclude based on your experiments.\n",
        "In this section, you can add **text**.\n",
        "\n"
      ]
    },
    {
      "cell_type": "markdown",
      "metadata": {
        "id": "yaxqlm6kRcmb"
      },
      "source": [
        "## **References**\n",
        "You can add here the citations of books, websites, or academic papers, etc."
      ]
    }
  ],
  "metadata": {
    "accelerator": "GPU",
    "colab": {
      "gpuType": "T4",
      "provenance": []
    },
    "kernelspec": {
      "display_name": "Python 3",
      "name": "python3"
    },
    "language_info": {
      "name": "python"
    }
  },
  "nbformat": 4,
  "nbformat_minor": 0
}

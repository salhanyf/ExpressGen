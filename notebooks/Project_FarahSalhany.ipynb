{
 "cells": [
  {
   "cell_type": "markdown",
   "metadata": {
    "id": "TZzv25vDL9LQ"
   },
   "source": [
    "# **ExpressGen**"
   ]
  },
  {
   "cell_type": "markdown",
   "metadata": {
    "id": "MP7fynuIMGlg"
   },
   "source": [
    "## **Abstract**\n",
    "   Abstract here. Give an executive summary of your project: goal, methods, results, conclusions. Usually no more than 200 words.\n"
   ]
  },
  {
   "cell_type": "markdown",
   "metadata": {
    "id": "wBGDBctaMYYQ"
   },
   "source": [
    "## **Introduction**\n",
    "\n",
    "Here you have to explain the problem that you are solving. Explain why it is important, and what are the main challenges. Mention previous attempts (add papers as references) to solve it. Mainly focus on the techniques closely related to our approach. Briefly describe your approach and explain why it is promising for solving the addressed problem. Mention the dataset and the main results achieved.\n",
    "\n",
    "In this section, you can add **text** and **figures**."
   ]
  },
  {
   "cell_type": "markdown",
   "metadata": {
    "id": "XtzOOJDnMpWp"
   },
   "source": [
    "## **Methodology**\n",
    "Describe the important steps you took to achieve your goal. Focus more on the most important steps (preprocessing, extra features, model aspects) that turned out to be important. Mention the original aspects of the project and state how they relate to existing work.\n",
    "\n",
    "In this section, you can add **text** and **figures**. For instance, it is strongly suggested to add a picture of the best machine learning model that you implemented to solve your problem (and describe it).\n"
   ]
  },
  {
   "cell_type": "markdown",
   "metadata": {
    "id": "YIQOcLeaPq3v"
   },
   "source": [
    "## **Experimental Setup**\n",
    "Describe the datasets used for your experiments. List the machine learning techniques used to solve your problem and report the corresponding hyperparameters.\n",
    "\n",
    "In this section, you can add **text**, **tables**, and **figures**."
   ]
  },
  {
   "cell_type": "markdown",
   "metadata": {},
   "source": [
    "### Importing the required packages"
   ]
  },
  {
   "cell_type": "code",
   "execution_count": 1,
   "metadata": {
    "vscode": {
     "languageId": "plaintext"
    }
   },
   "outputs": [
    {
     "name": "stdout",
     "output_type": "stream",
     "text": [
      "2025-04-03 23:40:05.174586\n"
     ]
    }
   ],
   "source": [
    "import os\n",
    "import sys\n",
    "\n",
    "from datetime import datetime\n",
    "import torchvision.transforms as transforms\n",
    "\n",
    "print(datetime.now())"
   ]
  },
  {
   "cell_type": "markdown",
   "metadata": {},
   "source": [
    "### Install the AffectNetHQ Dataset"
   ]
  },
  {
   "cell_type": "code",
   "execution_count": 2,
   "metadata": {},
   "outputs": [
    {
     "name": "stdout",
     "output_type": "stream",
     "text": [
      "Current path: \n",
      "/nfs/speed-scratch/f_salha/comp6841/ExpressGen/notebooks\n",
      "Python path:  /speed-scratch/f_salha/comp6841/envs/ExpressGen_env/bin/python\n"
     ]
    }
   ],
   "source": [
    "print(\"Current path: \")\n",
    "!pwd\n",
    "python_path = sys.executable\n",
    "print(\"Python path: \", python_path)"
   ]
  },
  {
   "cell_type": "code",
   "execution_count": 5,
   "metadata": {},
   "outputs": [
    {
     "name": "stdout",
     "output_type": "stream",
     "text": [
      "Dataset already exists. Skipping download.\n",
      "total 2152\n",
      "drwxrwx--- 9 f_salha f_salha   4096 Apr  3 23:20 .\n",
      "drwxrwx--- 5 f_salha f_salha   4096 Apr  3 23:38 ..\n",
      "drwxrwx--- 2 f_salha f_salha 282624 Apr  3 23:18 Angry\n",
      "drwxrwx--- 2 f_salha f_salha 208896 Apr  3 23:18 Disgust\n",
      "drwxrwx--- 2 f_salha f_salha 282624 Apr  3 23:18 Fear\n",
      "drwxrwx--- 2 f_salha f_salha 393216 Apr  3 23:19 Happy\n",
      "drwxrwx--- 2 f_salha f_salha 397312 Apr  3 23:20 Neutral\n",
      "drwxrwx--- 2 f_salha f_salha 266240 Apr  3 23:20 Sad\n",
      "drwxrwx--- 3 f_salha f_salha 335872 Apr  3 23:22 Surprised\n"
     ]
    }
   ],
   "source": [
    "# Check if dataset exists\n",
    "if not os.path.exists(\"../data/affectnethq\"):\n",
    "    print(\"Dataset not found. Downloading AffectNetHQ...\")\n",
    "    !{python_path} ../data/download_affectnethq.py\n",
    "else:\n",
    "    print(\"Dataset already exists. Skipping download.\")\n",
    "\n",
    "!ls -la ../data/affectnethq"
   ]
  },
  {
   "cell_type": "code",
   "execution_count": null,
   "metadata": {
    "vscode": {
     "languageId": "plaintext"
    }
   },
   "outputs": [
    {
     "name": "stdout",
     "output_type": "stream",
     "text": [
      "Number of samples: 27824\n",
      "Number of classes: 7\n",
      "Classes: ['Angry', 'Disgust', 'Fear', 'Happy', 'Neutral', 'Sad', 'Surprised']\n"
     ]
    }
   ],
   "source": [
    "sys.path.append('../data')\n",
    "from dataset_analysis import (\n",
    "    load_dataset,\n",
    "    get_dataset_stats,\n",
    "    plot_class_distribution,\n",
    "    show_samples_per_class\n",
    ")\n",
    "\n",
    "# Define transform\n",
    "transform = transforms.Compose([\n",
    "    transforms.Resize((128, 128)),\n",
    "    transforms.ToTensor()\n",
    "])\n",
    "\n",
    "# Load dataset\n",
    "root_dir = \"../data/affectnethq\"\n",
    "dataset = load_dataset(root_dir, transform=transform)\n",
    "\n",
    "# Dataset Analysis\n",
    "get_dataset_stats(dataset)\n",
    "plot_class_distribution(dataset)\n",
    "show_samples_per_class(dataset, samples_per_class=4)"
   ]
  },
  {
   "cell_type": "markdown",
   "metadata": {
    "id": "BRL5KR20QWKu"
   },
   "source": [
    "## **Experimental Results**\n",
    "Describe here the main experimental results. Critically discuss them. Compare them with results available in the literature (if applicable).\n",
    "\n",
    "In this section, you can add **text** and **figures**, **tables**, **plots**, and code. Make sure the code is runnable and replicable."
   ]
  },
  {
   "cell_type": "markdown",
   "metadata": {
    "id": "b4Jyn3BcQDpf"
   },
   "source": [
    "## **Conclusions**\n",
    "\n",
    "Summarize what you could and could not conclude based on your experiments.\n",
    "In this section, you can add **text**.\n",
    "\n"
   ]
  },
  {
   "cell_type": "markdown",
   "metadata": {
    "id": "yaxqlm6kRcmb"
   },
   "source": [
    "## **References**\n",
    "You can add here the citations of books, websites, or academic papers, etc."
   ]
  }
 ],
 "metadata": {
  "accelerator": "GPU",
  "colab": {
   "gpuType": "T4",
   "provenance": []
  },
  "kernelspec": {
   "display_name": "Python 3 (ipykernel)",
   "language": "python",
   "name": "python3"
  },
  "language_info": {
   "codemirror_mode": {
    "name": "ipython",
    "version": 3
   },
   "file_extension": ".py",
   "mimetype": "text/x-python",
   "name": "python",
   "nbconvert_exporter": "python",
   "pygments_lexer": "ipython3",
   "version": "3.13.2"
  }
 },
 "nbformat": 4,
 "nbformat_minor": 4
}
